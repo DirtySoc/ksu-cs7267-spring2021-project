{
 "cells": [
  {
   "cell_type": "code",
   "execution_count": 1,
   "id": "moving-windsor",
   "metadata": {},
   "outputs": [],
   "source": [
    "import cv2\n",
    "import numpy as np\n",
    "\n",
    "ann_img = np.zeros((30,30,3)).astype('uint8')\n",
    "ann_img[ 3 , 4 ] = 1 # this would set the label of pixel 3,4 as 1\n",
    "ann_img[ 0 , 0 ] = 2 # this would set the label of pixel 0,0 as 2"
   ]
  },
  {
   "cell_type": "code",
   "execution_count": 6,
   "id": "corrected-ceramic",
   "metadata": {},
   "outputs": [
    {
     "ename": "SyntaxError",
     "evalue": "(unicode error) 'unicodeescape' codec can't decode bytes in position 2-3: truncated \\UXXXXXXXX escape (<ipython-input-6-45d8baa530b6>, line 6)",
     "output_type": "error",
     "traceback": [
      "\u001b[1;36m  File \u001b[1;32m\"<ipython-input-6-45d8baa530b6>\"\u001b[1;36m, line \u001b[1;32m6\u001b[0m\n\u001b[1;33m    original_image = os.path.abspath(\"C:\\Users\\derek\\Desktop\\Source Code\\data\\iSAID_patches\\train\\rgb_source_images\\P0000_0_800_0_800.png\")\u001b[0m\n\u001b[1;37m                                     ^\u001b[0m\n\u001b[1;31mSyntaxError\u001b[0m\u001b[1;31m:\u001b[0m (unicode error) 'unicodeescape' codec can't decode bytes in position 2-3: truncated \\UXXXXXXXX escape\n"
     ]
    }
   ],
   "source": [
    "import os\n",
    "from PIL import Image\n",
    "import matplotlib.pyplot as plt\n",
    "# %matplotlib inline\n",
    "\n",
    "original_image = os.path.abspath(\"C:\\Users\\derek\\Desktop\\Source Code\\data\\iSAID_patches\\train\\rgb_source_images\\P0000_0_800_0_800.png\")\n",
    "label_image_semantic = os.path.abspath(\"C:\\Users\\derek\\Desktop\\Source Code\\data\\iSAID_patches\\train\\sem_label_mask_gs\\P0000_0_800_0_800_instance_color_RGB.png.gs.png\")\n",
    "\n",
    "fig, axs = plt.subplots(1, 2, figsize=(16, 8), constrained_layout=True)\n",
    "\n",
    "\n",
    "axs[0].imshow(Image.open(original_image))\n",
    "axs[0].grid(False)\n",
    "\n",
    "label_image_semantic = Image.open(label_image_semantic)\n",
    "label_image_semantic = np.asarray(label_image_semantic)\n",
    "axs[1].imshow(label_image_semantic)\n",
    "axs[1].grid(False)"
   ]
  },
  {
   "cell_type": "code",
   "execution_count": null,
   "id": "incident-divorce",
   "metadata": {},
   "outputs": [],
   "source": []
  }
 ],
 "metadata": {
  "kernelspec": {
   "display_name": "Python 3",
   "language": "python",
   "name": "python3"
  },
  "language_info": {
   "codemirror_mode": {
    "name": "ipython",
    "version": 3
   },
   "file_extension": ".py",
   "mimetype": "text/x-python",
   "name": "python",
   "nbconvert_exporter": "python",
   "pygments_lexer": "ipython3",
   "version": "3.8.8"
  }
 },
 "nbformat": 4,
 "nbformat_minor": 5
}
